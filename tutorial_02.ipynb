{
 "cells": [
  {
   "cell_type": "markdown",
   "metadata": {
    "id": "sRevpOVFhbJ8"
   },
   "source": [
    "# Tutorial 2\n",
    "\n",
    "## CSC420 - Winter 2023\n",
    "\n",
    "## Acknowledgment: Babak Taati\n",
    "### Edited by: Shayan Shekarforoush"
   ]
  },
  {
   "cell_type": "code",
   "execution_count": null,
   "metadata": {
    "id": "hWLjLrVmfOdo"
   },
   "outputs": [],
   "source": [
    "import numpy as np\n",
    "import matplotlib.pyplot as plt\n",
    "from PIL import Image"
   ]
  },
  {
   "cell_type": "code",
   "execution_count": null,
   "metadata": {
    "id": "Q1exTeIU3TyW"
   },
   "outputs": [],
   "source": [
    "import cv2"
   ]
  },
  {
   "cell_type": "markdown",
   "metadata": {
    "id": "0I_nEd7KvRhT"
   },
   "source": [
    "First and second order derivates of images, namely gradients and laplacian, can be used to detect edges. For the discrete intensity function, we can approximate them using finite differences."
   ]
  },
  {
   "cell_type": "markdown",
   "metadata": {},
   "source": [
    "## Image Laplacian"
   ]
  },
  {
   "cell_type": "code",
   "execution_count": null,
   "metadata": {},
   "outputs": [],
   "source": [
    "img = cv2.imread('./window.jpeg') # numpy array\n",
    "gray = cv2.cvtColor(img, cv2.COLOR_BGR2GRAY)"
   ]
  },
  {
   "cell_type": "code",
   "execution_count": null,
   "metadata": {
    "id": "WjH9TECdRAnx"
   },
   "outputs": [],
   "source": [
    "laplacian = cv2.Laplacian(gray, cv2.CV_64F)"
   ]
  },
  {
   "cell_type": "code",
   "execution_count": null,
   "metadata": {},
   "outputs": [],
   "source": [
    "fig = plt.figure(figsize=(15,15))\n",
    "ax1 = fig.add_subplot(121)\n",
    "ax2 = fig.add_subplot(122)\n",
    "\n",
    "ax1.imshow(gray,cmap = 'gray')\n",
    "ax1.title.set_text('Original'), ax1.set_xticks([]), ax1.set_yticks([])\n",
    "ax2.imshow(laplacian,cmap = 'gray')\n",
    "ax2.title.set_text('Laplacian'), ax2.set_xticks([]), ax2.set_yticks([]);"
   ]
  },
  {
   "cell_type": "markdown",
   "metadata": {},
   "source": [
    "## Smooth first ..."
   ]
  },
  {
   "cell_type": "code",
   "execution_count": null,
   "metadata": {
    "id": "3DiC0D6hL_wr"
   },
   "outputs": [],
   "source": [
    "plt.figure(figsize=(7,7))\n",
    "blur = cv2.GaussianBlur(gray, (5,5), 1)\n",
    "plt.imshow(blur, cmap = 'gray')\n",
    "plt.xticks([]), plt.yticks([]);"
   ]
  },
  {
   "cell_type": "code",
   "execution_count": null,
   "metadata": {},
   "outputs": [],
   "source": [
    "laplacian = cv2.Laplacian(blur, cv2.CV_64F)"
   ]
  },
  {
   "cell_type": "code",
   "execution_count": null,
   "metadata": {
    "id": "b8NzOLJJLLhq"
   },
   "outputs": [],
   "source": [
    "fig = plt.figure(figsize=(15,15))\n",
    "ax1 = fig.add_subplot(121)\n",
    "ax2 = fig.add_subplot(122)\n",
    "ax1.imshow(gray,cmap = 'gray')\n",
    "ax1.title.set_text('Original'), ax1.set_xticks([]), ax1.set_yticks([])\n",
    "ax2.imshow(laplacian,cmap = 'gray')\n",
    "ax2.title.set_text('Laplacian'), ax2.set_xticks([]), ax2.set_yticks([]);"
   ]
  },
  {
   "cell_type": "markdown",
   "metadata": {},
   "source": [
    "## Laplacian kernel"
   ]
  },
  {
   "cell_type": "markdown",
   "metadata": {},
   "source": [
    "$$\n",
    "\\frac{\\partial^2 f}{\\partial x^2} \\approx f(x+1) + f(x-1) - 2f(x) \\Rightarrow k_x = [1, -2, 1] \\\\\n",
    "\\frac{\\partial^2 f}{\\partial y^2} \\approx f(y+1) + f(y-1) - 2f(y) \\Rightarrow k_y = [1, -2, 1]^T \\\\\n",
    "k = k_x + k_y = \\begin{bmatrix} 0 & 1 & 0 \\\\ 1 & -4 & 1 \\\\ 0 & 1 & 0 \\end{bmatrix}\n",
    "$$"
   ]
  },
  {
   "cell_type": "code",
   "execution_count": null,
   "metadata": {
    "id": "1fNcNHQgrHma"
   },
   "outputs": [],
   "source": [
    "L = [[0,1,0],[1,-4,1],[0,1,0]]\n",
    "L = np.asanyarray(L, np.float32)\n",
    "print(L)"
   ]
  },
  {
   "cell_type": "code",
   "execution_count": null,
   "metadata": {},
   "outputs": [],
   "source": [
    "dst = cv2.filter2D(blur, -1, kernel=L)\n",
    "plt.figure(figsize=(7,7))\n",
    "plt.imshow(dst, cmap = 'gray')\n",
    "plt.xticks([]), plt.yticks([]);"
   ]
  },
  {
   "cell_type": "markdown",
   "metadata": {},
   "source": [
    "## Is it the same?"
   ]
  },
  {
   "cell_type": "code",
   "execution_count": null,
   "metadata": {
    "id": "CWjz7OiZv0M9"
   },
   "outputs": [],
   "source": [
    "print([laplacian.min(), laplacian.max()])\n",
    "print([dst.min(), dst.max()])"
   ]
  },
  {
   "cell_type": "code",
   "execution_count": null,
   "metadata": {},
   "outputs": [],
   "source": [
    "whos"
   ]
  },
  {
   "cell_type": "markdown",
   "metadata": {},
   "source": [
    "### Solution:  use ddepth=cv2.CV_64F"
   ]
  },
  {
   "cell_type": "code",
   "execution_count": null,
   "metadata": {
    "id": "iz2T2qkdxpgg"
   },
   "outputs": [],
   "source": [
    "dst = cv2.filter2D(blur, ddepth=cv2.CV_64F, kernel=L)\n",
    "\n",
    "plt.figure(figsize=(7,7))\n",
    "plt.imshow(dst, cmap = 'gray')\n",
    "plt.xticks([]), plt.yticks([]);"
   ]
  },
  {
   "cell_type": "code",
   "execution_count": null,
   "metadata": {},
   "outputs": [],
   "source": [
    "print([laplacian.min(), laplacian.max()])\n",
    "print([dst.min(), dst.max()])"
   ]
  },
  {
   "cell_type": "code",
   "execution_count": null,
   "metadata": {},
   "outputs": [],
   "source": [
    "np.allclose(laplacian, dst)"
   ]
  },
  {
   "cell_type": "markdown",
   "metadata": {},
   "source": [
    "## Sobel filter"
   ]
  },
  {
   "cell_type": "markdown",
   "metadata": {},
   "source": [
    "**Image Gradient:**\n",
    "$$\n",
    "\\frac{\\partial f}{\\partial x} \\approx f(x + 1) - f(x - 1) \\Rightarrow k_x = [-1, 0, 1] \\\\\n",
    "\\frac{\\partial f}{\\partial y} \\approx f(y + 1) - f(y - 1) \\Rightarrow k_y = [-1, 0, 1]^T\n",
    "$$\n",
    "**Sobel filter:** Computing the gradients with (gaussian) smoothing.\n",
    "$$\n",
    "k_x = [1, 2, 1]^T * [-1, 0, 1] = \\begin{bmatrix} -1 & 0 & 1 \\\\ -2 & 0 & 2 \\\\ -1 & 0 & 1 \\end{bmatrix} \\\\\n",
    "k_y = [-1, 0, 1]^T * [1, 2, 1] = \\begin{bmatrix} -1 & -2 & -1 \\\\ 0 & 0 & 0 \\\\ 1 & 2 & 1 \\end{bmatrix}\n",
    "$$\n",
    "This can be extended to larger kernels."
   ]
  },
  {
   "cell_type": "code",
   "execution_count": null,
   "metadata": {
    "id": "h2vBnPfhJ5Hr"
   },
   "outputs": [],
   "source": [
    "sobelx = cv2.Sobel(blur, cv2.CV_64F, 1, 0, ksize=5)\n",
    "sobely = cv2.Sobel(blur, cv2.CV_64F, 0, 1, ksize=5)\n",
    "\n",
    "fig = plt.figure(figsize=(15,15))\n",
    "ax1 = fig.add_subplot(121)\n",
    "ax2 = fig.add_subplot(122)\n",
    "\n",
    "ax1.imshow(sobelx, cmap='gray')\n",
    "ax1.title.set_text('Sobel X'), ax1.set_xticks([]), ax1.set_yticks([])\n",
    "ax2.imshow(sobely, cmap='gray')\n",
    "ax2.title.set_text('Sobel Y'), ax2.set_xticks([]), ax2.set_yticks([]);"
   ]
  },
  {
   "cell_type": "markdown",
   "metadata": {
    "id": "HZgkr6vIqE9N"
   },
   "source": [
    "**The light and dark regions correspond to positive and negativ gradients, respectively.**"
   ]
  },
  {
   "cell_type": "markdown",
   "metadata": {},
   "source": [
    "**Caveat: If we replace cv2.CV_64F with -1, we miss negative slopes.**"
   ]
  },
  {
   "cell_type": "code",
   "execution_count": null,
   "metadata": {
    "id": "7JbzrVP1o-u3"
   },
   "outputs": [],
   "source": [
    "blended = cv2.addWeighted(src1=sobelx,alpha=0.5,src2=sobely,beta=0.5,gamma=0)\n",
    "\n",
    "plt.figure(figsize=(7,7))\n",
    "plt.imshow(blended, cmap = 'gray');"
   ]
  },
  {
   "cell_type": "code",
   "execution_count": null,
   "metadata": {
    "id": "UxldPCO-SADg"
   },
   "outputs": [],
   "source": [
    "# grad_mag = np.sqrt((sobelx**2) + (sobely**2)) # gradient magnitude\n",
    "# grad_mag = abs(sobelx) + abs(sobely); # gradient first norm\n",
    "grad_mag = cv2.addWeighted(src1=abs(sobelx), alpha=0.5, src2=abs(sobely), beta=0.5, gamma=0)\n",
    "\n",
    "plt.figure(figsize=(7,7))\n",
    "plt.imshow(grad_mag,cmap='gray')\n",
    "plt.xticks([]), plt.yticks([]);"
   ]
  },
  {
   "cell_type": "code",
   "execution_count": null,
   "metadata": {
    "id": "FLLy6mC1X8EL"
   },
   "outputs": [],
   "source": [
    "print([sobelx.min(), sobelx.max()]) \n",
    "print([grad_mag.min(), grad_mag.max()])"
   ]
  },
  {
   "cell_type": "markdown",
   "metadata": {},
   "source": [
    "### Histogram"
   ]
  },
  {
   "cell_type": "code",
   "execution_count": null,
   "metadata": {
    "id": "b2ehFqYdSlfF"
   },
   "outputs": [],
   "source": [
    "hist, bins = np.histogram(grad_mag, 3660, [0,3660])\n",
    "plt.figure(figsize=(10,5))\n",
    "plt.plot(hist)"
   ]
  },
  {
   "cell_type": "code",
   "execution_count": null,
   "metadata": {
    "id": "Hb_-xXZgitv_"
   },
   "outputs": [],
   "source": [
    "plt.figure(figsize=(10,5))\n",
    "plt.plot(hist)\n",
    "plt.xlim([0,200])"
   ]
  },
  {
   "cell_type": "code",
   "execution_count": null,
   "metadata": {
    "id": "Xqx_vf49TuN6"
   },
   "outputs": [],
   "source": [
    "th = grad_mag > 1000\n",
    "plt.figure(figsize=(7,7))\n",
    "plt.imshow(th, cmap='gray')\n",
    "plt.xticks([]), plt.yticks([]);"
   ]
  },
  {
   "cell_type": "markdown",
   "metadata": {},
   "source": [
    "### Try different thresholds! Can you find a threshold that gets all the edges, but nothing else?"
   ]
  },
  {
   "cell_type": "code",
   "execution_count": null,
   "metadata": {
    "id": "Kqs_HlkVqgMY"
   },
   "outputs": [],
   "source": [
    "ret, th1 = cv2.threshold(grad_mag, 1000, 255, cv2.THRESH_BINARY)\n",
    "plt.figure(figsize=(7,7))\n",
    "plt.imshow(th1, cmap='gray')\n",
    "plt.xticks([]), plt.yticks([]);"
   ]
  },
  {
   "cell_type": "markdown",
   "metadata": {},
   "source": [
    "## Canny edge detector"
   ]
  },
  {
   "cell_type": "code",
   "execution_count": null,
   "metadata": {
    "id": "GxunpjiYKhmC"
   },
   "outputs": [],
   "source": [
    "edges = cv2.Canny(gray, threshold1=75, threshold2=100)\n",
    "\n",
    "fig = plt.figure(figsize=(15,15))\n",
    "ax1 = fig.add_subplot(121)\n",
    "ax2 = fig.add_subplot(122)\n",
    "\n",
    "ax1.imshow(gray, cmap = 'gray')\n",
    "ax1.title.set_text('Original Image'), ax1.set_xticks([]), ax1.set_yticks([])\n",
    "ax2.imshow(edges,cmap = 'gray')\n",
    "ax2.title.set_text('Edge Image'), ax2.set_xticks([]), ax2.set_yticks([])"
   ]
  },
  {
   "cell_type": "markdown",
   "metadata": {
    "id": "el7VElGcA55W"
   },
   "source": [
    "You can find more examples in [Image Processing in OpenCV](https://docs.opencv.org/4.5.2/d2/d96/tutorial_py_table_of_contents_imgproc.html) Tutorials."
   ]
  },
  {
   "cell_type": "markdown",
   "metadata": {},
   "source": [
    "# Morphological Transformations"
   ]
  },
  {
   "cell_type": "markdown",
   "metadata": {
    "id": "yAElKlFWr6Vi"
   },
   "source": [
    "Let's go through the ***Morphological Transformations***  tutorial (under ***Image Processing in OpenCV***)\n"
   ]
  },
  {
   "cell_type": "code",
   "execution_count": null,
   "metadata": {
    "id": "uwsto-s0r7Uo"
   },
   "outputs": [],
   "source": [
    "img = np.zeros(shape=(480,640),dtype=np.int16)\n",
    "cv2.putText(img,text='T E S T - O o', org=(100, 100), fontFace=cv2.FONT_HERSHEY_SIMPLEX, fontScale=1, color=(255, 255, 255), thickness=4)\n",
    "cv2.putText(img,text='0 1 2 3 4 ', org=(150, 200), fontFace=cv2.FONT_HERSHEY_COMPLEX, fontScale=2, color=(255, 255, 255), thickness=4)\n",
    "cv2.putText(img,text='5 6 7 8 9', org=(150, 300), fontFace=cv2.FONT_HERSHEY_COMPLEX, fontScale=2, color=(255, 255, 255), thickness=4)\n",
    "ret, img = cv2.threshold(img, 120, 255, cv2.THRESH_BINARY)\n",
    "plt.figure(figsize=(7,7))\n",
    "plt.imshow(img, cmap='gray')"
   ]
  },
  {
   "cell_type": "markdown",
   "metadata": {},
   "source": [
    "### Erosion"
   ]
  },
  {
   "cell_type": "code",
   "execution_count": null,
   "metadata": {
    "id": "BKpcw_u0sBjS"
   },
   "outputs": [],
   "source": [
    "kernel = np.ones((3,3), np.uint8)\n",
    "erosion = cv2.erode(img, kernel, iterations=1)\n",
    "plt.figure(figsize=(7,7))\n",
    "plt.imshow(erosion, cmap='gray')"
   ]
  },
  {
   "cell_type": "code",
   "execution_count": null,
   "metadata": {
    "id": "x34WNzmduZOk"
   },
   "outputs": [],
   "source": [
    "kernel = np.ones((7,7), np.uint8)\n",
    "dilation = cv2.dilate(img, kernel, iterations=1)\n",
    "plt.figure(figsize=(7,7))\n",
    "plt.imshow(dilation, cmap='gray')"
   ]
  },
  {
   "cell_type": "markdown",
   "metadata": {
    "id": "i3ou6uglWYM8"
   },
   "source": [
    "**Convolution is a linear operator.**\n",
    "\n",
    "**Are morphological transformations linear?**\n",
    "\n",
    "Linear transformations is a mapping from a vector space (***V***) to another vector space (***W***),  **f: V → W**\n",
    "\n",
    "For any two vectors ***u*** and ***v*** in ***V*** and any scalar *c*\n",
    "\n",
    "*   ***f(u+v) = f(u) + f(v)***\n",
    "*   ***f***(*c* ***u***) = *c* ***f(u)***"
   ]
  },
  {
   "cell_type": "markdown",
   "metadata": {
    "id": "GqYlQTENwe6J"
   },
   "source": [
    "**Closing = Dilation followed by Erosion**"
   ]
  },
  {
   "cell_type": "code",
   "execution_count": null,
   "metadata": {
    "id": "-3LE11ChupjG"
   },
   "outputs": [],
   "source": [
    "dilation = cv2.dilate(img, kernel, iterations=1)\n",
    "close = cv2.erode(dilation, kernel, iterations=1)\n",
    "plt.figure(figsize=(7,7))\n",
    "plt.imshow(close, cmap='gray')"
   ]
  },
  {
   "cell_type": "code",
   "execution_count": null,
   "metadata": {
    "id": "mD4OmXigvJU-"
   },
   "outputs": [],
   "source": [
    "closing = cv2.morphologyEx(img, cv2.MORPH_CLOSE, kernel)\n",
    "plt.figure(figsize=(7,7))\n",
    "plt.imshow(closing, cmap='gray')"
   ]
  },
  {
   "cell_type": "markdown",
   "metadata": {
    "id": "n96tyga8wncs"
   },
   "source": [
    "**Opening = Erosion followed by Dilation**"
   ]
  },
  {
   "cell_type": "code",
   "execution_count": null,
   "metadata": {
    "id": "ou7ZB9w0wZLv"
   },
   "outputs": [],
   "source": [
    "kernel = np.ones((3,3),np.uint8)\n",
    "opening = cv2.morphologyEx(img, cv2.MORPH_OPEN, kernel)\n",
    "plt.figure(figsize=(7,7))\n",
    "plt.imshow(opening, cmap='gray')"
   ]
  },
  {
   "cell_type": "markdown",
   "metadata": {
    "id": "aeEsZhW3xAt_"
   },
   "source": [
    "## Opening can get rid of 'salt' noise, why?"
   ]
  },
  {
   "cell_type": "code",
   "execution_count": null,
   "metadata": {
    "id": "KSjwG-UIwt-Q"
   },
   "outputs": [],
   "source": [
    "# salt noise\n",
    "noisy_img = img.copy() \n",
    "R = np.random.rand(img.shape[0], img.shape[1]) > 0.70\n",
    "noisy_img[R] = 255\n",
    "plt.figure(figsize=(7,7))\n",
    "plt.imshow(noisy_img, cmap='gray')"
   ]
  },
  {
   "cell_type": "code",
   "execution_count": null,
   "metadata": {
    "id": "txQso-tZxW6J"
   },
   "outputs": [],
   "source": [
    "kernel = np.ones((3,3),np.uint8)\n",
    "opening = cv2.morphologyEx(noisy_img, cv2.MORPH_OPEN, kernel)\n",
    "plt.figure(figsize=(7,7))\n",
    "plt.imshow(opening, cmap='gray')"
   ]
  },
  {
   "cell_type": "markdown",
   "metadata": {
    "id": "RnLeP90gx6PI"
   },
   "source": [
    "## Closing can get rid of 'pepper' noise, why?"
   ]
  },
  {
   "cell_type": "code",
   "execution_count": null,
   "metadata": {
    "id": "sRVY0erDxo0Z"
   },
   "outputs": [],
   "source": [
    "# pepper noise\n",
    "noisy_img = img.copy() \n",
    "R = np.random.rand(img.shape[0], img.shape[1]) > 0.60\n",
    "noisy_img[R] = 0\n",
    "plt.figure(figsize=(7,7))\n",
    "plt.imshow(noisy_img, cmap='gray')"
   ]
  },
  {
   "cell_type": "code",
   "execution_count": null,
   "metadata": {
    "id": "aUz9Z91Rx_mk"
   },
   "outputs": [],
   "source": [
    "kernel = np.ones((3,3),np.uint8)\n",
    "closing = cv2.morphologyEx(noisy_img, cv2.MORPH_CLOSE, kernel)\n",
    "plt.figure(figsize=(7,7))\n",
    "plt.imshow(closing, cmap='gray')"
   ]
  },
  {
   "cell_type": "markdown",
   "metadata": {},
   "source": [
    "**Morphological Gradient = difference between dilation and erosion of an image**"
   ]
  },
  {
   "cell_type": "code",
   "execution_count": null,
   "metadata": {
    "id": "r343jLbCyGRq"
   },
   "outputs": [],
   "source": [
    "gradient = cv2.morphologyEx(img, cv2.MORPH_GRADIENT, kernel)\n",
    "plt.figure(figsize=(7,7))\n",
    "plt.imshow(gradient, cmap='gray')"
   ]
  },
  {
   "cell_type": "markdown",
   "metadata": {
    "id": "VZZf46Z8y1jl"
   },
   "source": [
    "**Looks like ~ edge detection! (only for binary images)**"
   ]
  },
  {
   "cell_type": "markdown",
   "metadata": {},
   "source": [
    "## Kernels of different shapes (elliptical, cross, ...)"
   ]
  },
  {
   "cell_type": "code",
   "execution_count": null,
   "metadata": {
    "id": "oT5lw50Qy6zR"
   },
   "outputs": [],
   "source": [
    "# try kernel shapes that are not square\n",
    "kernel = cv2.getStructuringElement(cv2.MORPH_ELLIPSE, (5,5))\n",
    "kernel"
   ]
  },
  {
   "cell_type": "code",
   "execution_count": null,
   "metadata": {},
   "outputs": [],
   "source": [
    "kernel = cv2.getStructuringElement(cv2.MORPH_CROSS, (5,5))\n",
    "kernel"
   ]
  },
  {
   "cell_type": "code",
   "execution_count": null,
   "metadata": {
    "id": "XXh0Dn1_zBFD"
   },
   "outputs": [],
   "source": [
    "opening = cv2.morphologyEx(img, cv2.MORPH_OPEN, kernel)\n",
    "plt.figure(figsize=(7,7))\n",
    "plt.imshow(opening, cmap='gray')"
   ]
  }
 ],
 "metadata": {
  "accelerator": "TPU",
  "colab": {
   "collapsed_sections": [],
   "name": "CSC420_2021_Tutorial_02_B.Taati.ipynb",
   "provenance": []
  },
  "kernelspec": {
   "display_name": "Python 3 (ipykernel)",
   "language": "python",
   "name": "python3"
  },
  "language_info": {
   "codemirror_mode": {
    "name": "ipython",
    "version": 3
   },
   "file_extension": ".py",
   "mimetype": "text/x-python",
   "name": "python",
   "nbconvert_exporter": "python",
   "pygments_lexer": "ipython3",
   "version": "3.9.13"
  }
 },
 "nbformat": 4,
 "nbformat_minor": 1
}
